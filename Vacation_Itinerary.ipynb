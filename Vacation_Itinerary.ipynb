{
 "cells": [
  {
   "cell_type": "code",
   "execution_count": 56,
   "metadata": {},
   "outputs": [],
   "source": [
    "# Import the dependencies\n",
    "import pandas as pd\n",
    "import numpy as np\n",
    "\n",
    "# Import the requests library\n",
    "import requests\n",
    "\n",
    "# Import the API key\n",
    "from config import g_key\n",
    "\n",
    "# Import dependencies for directions layer\n",
    "import gmaps\n",
    "import gmaps.datasets\n"
   ]
  },
  {
   "cell_type": "code",
   "execution_count": 57,
   "metadata": {},
   "outputs": [
    {
     "data": {
      "text/html": [
       "<div>\n",
       "<style scoped>\n",
       "    .dataframe tbody tr th:only-of-type {\n",
       "        vertical-align: middle;\n",
       "    }\n",
       "\n",
       "    .dataframe tbody tr th {\n",
       "        vertical-align: top;\n",
       "    }\n",
       "\n",
       "    .dataframe thead th {\n",
       "        text-align: right;\n",
       "    }\n",
       "</style>\n",
       "<table border=\"1\" class=\"dataframe\">\n",
       "  <thead>\n",
       "    <tr style=\"text-align: right;\">\n",
       "      <th></th>\n",
       "      <th>City_ID</th>\n",
       "      <th>City</th>\n",
       "      <th>Country</th>\n",
       "      <th>Max Temp</th>\n",
       "      <th>Current Description</th>\n",
       "      <th>Lat</th>\n",
       "      <th>Lng</th>\n",
       "      <th>Hotel Name</th>\n",
       "    </tr>\n",
       "  </thead>\n",
       "  <tbody>\n",
       "    <tr>\n",
       "      <th>0</th>\n",
       "      <td>5</td>\n",
       "      <td>Tiarei</td>\n",
       "      <td>PF</td>\n",
       "      <td>77.00</td>\n",
       "      <td>broken clouds</td>\n",
       "      <td>-17.53</td>\n",
       "      <td>-149.33</td>\n",
       "      <td>Le Rocher de Tahiti</td>\n",
       "    </tr>\n",
       "    <tr>\n",
       "      <th>1</th>\n",
       "      <td>6</td>\n",
       "      <td>Sept-Iles</td>\n",
       "      <td>CA</td>\n",
       "      <td>69.80</td>\n",
       "      <td>overcast clouds</td>\n",
       "      <td>50.20</td>\n",
       "      <td>-66.38</td>\n",
       "      <td>Comfort Inn</td>\n",
       "    </tr>\n",
       "    <tr>\n",
       "      <th>2</th>\n",
       "      <td>9</td>\n",
       "      <td>Ponta Do Sol</td>\n",
       "      <td>PT</td>\n",
       "      <td>73.99</td>\n",
       "      <td>clear sky</td>\n",
       "      <td>32.67</td>\n",
       "      <td>-17.10</td>\n",
       "      <td>Hotel do Campo</td>\n",
       "    </tr>\n",
       "    <tr>\n",
       "      <th>3</th>\n",
       "      <td>10</td>\n",
       "      <td>Wlodawa</td>\n",
       "      <td>PL</td>\n",
       "      <td>63.00</td>\n",
       "      <td>clear sky</td>\n",
       "      <td>51.55</td>\n",
       "      <td>23.55</td>\n",
       "      <td>Ośrodek Wypoczynkowy Ranczo</td>\n",
       "    </tr>\n",
       "    <tr>\n",
       "      <th>4</th>\n",
       "      <td>15</td>\n",
       "      <td>Ampanihy</td>\n",
       "      <td>MG</td>\n",
       "      <td>65.70</td>\n",
       "      <td>clear sky</td>\n",
       "      <td>-24.70</td>\n",
       "      <td>44.75</td>\n",
       "      <td>Angora Hotel</td>\n",
       "    </tr>\n",
       "  </tbody>\n",
       "</table>\n",
       "</div>"
      ],
      "text/plain": [
       "   City_ID          City Country  Max Temp Current Description    Lat     Lng  \\\n",
       "0        5        Tiarei      PF     77.00       broken clouds -17.53 -149.33   \n",
       "1        6     Sept-Iles      CA     69.80     overcast clouds  50.20  -66.38   \n",
       "2        9  Ponta Do Sol      PT     73.99           clear sky  32.67  -17.10   \n",
       "3       10       Wlodawa      PL     63.00           clear sky  51.55   23.55   \n",
       "4       15      Ampanihy      MG     65.70           clear sky -24.70   44.75   \n",
       "\n",
       "                    Hotel Name  \n",
       "0          Le Rocher de Tahiti  \n",
       "1                  Comfort Inn  \n",
       "2               Hotel do Campo  \n",
       "3  Ośrodek Wypoczynkowy Ranczo  \n",
       "4                 Angora Hotel  "
      ]
     },
     "execution_count": 57,
     "metadata": {},
     "output_type": "execute_result"
    }
   ],
   "source": [
    "# Import WeatherPy_vacation csv and save as a new Dataframe\n",
    "vacation_it_df = pd.read_csv(\"weather_data/WeatherPy_vacation.csv\")\n",
    "vacation_it_df.head()"
   ]
  },
  {
   "cell_type": "code",
   "execution_count": 58,
   "metadata": {},
   "outputs": [],
   "source": [
    "# Creating separate DataFrames for four cities within the same continent\n",
    "flinflon_ca_df = vacation_it_df.loc[(vacation_it_df[\"City\"] == \"Flin Flon\") & \\\n",
    "                                       (vacation_it_df[\"Country\"] == \"CA\")]\n",
    "\n",
    "bonavista_ca_df = vacation_it_df.loc[(vacation_it_df[\"City\"] == \"Bonavista\") & \\\n",
    "                                       (vacation_it_df[\"Country\"] == \"CA\")]\n",
    "\n",
    "vernon_ca_df = vacation_it_df.loc[(vacation_it_df[\"City\"] == \"Vernon\") & \\\n",
    "                                       (vacation_it_df[\"Country\"] == \"CA\")]\n",
    "\n",
    "lakecowi_ca_df = vacation_it_df.loc[(vacation_it_df[\"City\"] == \"Lake Cowichan\") & \\\n",
    "                                       (vacation_it_df[\"Country\"] == \"CA\")]"
   ]
  },
  {
   "cell_type": "code",
   "execution_count": 59,
   "metadata": {},
   "outputs": [
    {
     "data": {
      "text/html": [
       "<div>\n",
       "<style scoped>\n",
       "    .dataframe tbody tr th:only-of-type {\n",
       "        vertical-align: middle;\n",
       "    }\n",
       "\n",
       "    .dataframe tbody tr th {\n",
       "        vertical-align: top;\n",
       "    }\n",
       "\n",
       "    .dataframe thead th {\n",
       "        text-align: right;\n",
       "    }\n",
       "</style>\n",
       "<table border=\"1\" class=\"dataframe\">\n",
       "  <thead>\n",
       "    <tr style=\"text-align: right;\">\n",
       "      <th></th>\n",
       "      <th>City_ID</th>\n",
       "      <th>City</th>\n",
       "      <th>Country</th>\n",
       "      <th>Max Temp</th>\n",
       "      <th>Current Description</th>\n",
       "      <th>Lat</th>\n",
       "      <th>Lng</th>\n",
       "      <th>Hotel Name</th>\n",
       "    </tr>\n",
       "  </thead>\n",
       "  <tbody>\n",
       "    <tr>\n",
       "      <th>215</th>\n",
       "      <td>366</td>\n",
       "      <td>Flin Flon</td>\n",
       "      <td>CA</td>\n",
       "      <td>71.6</td>\n",
       "      <td>broken clouds</td>\n",
       "      <td>54.77</td>\n",
       "      <td>-101.86</td>\n",
       "      <td>Victoria Inn Flin Flon</td>\n",
       "    </tr>\n",
       "  </tbody>\n",
       "</table>\n",
       "</div>"
      ],
      "text/plain": [
       "     City_ID       City Country  Max Temp Current Description    Lat     Lng  \\\n",
       "215      366  Flin Flon      CA      71.6       broken clouds  54.77 -101.86   \n",
       "\n",
       "                 Hotel Name  \n",
       "215  Victoria Inn Flin Flon  "
      ]
     },
     "execution_count": 59,
     "metadata": {},
     "output_type": "execute_result"
    }
   ],
   "source": [
    "flinflon_ca_df"
   ]
  },
  {
   "cell_type": "code",
   "execution_count": 60,
   "metadata": {},
   "outputs": [
    {
     "data": {
      "text/html": [
       "<div>\n",
       "<style scoped>\n",
       "    .dataframe tbody tr th:only-of-type {\n",
       "        vertical-align: middle;\n",
       "    }\n",
       "\n",
       "    .dataframe tbody tr th {\n",
       "        vertical-align: top;\n",
       "    }\n",
       "\n",
       "    .dataframe thead th {\n",
       "        text-align: right;\n",
       "    }\n",
       "</style>\n",
       "<table border=\"1\" class=\"dataframe\">\n",
       "  <thead>\n",
       "    <tr style=\"text-align: right;\">\n",
       "      <th></th>\n",
       "      <th>City_ID</th>\n",
       "      <th>City</th>\n",
       "      <th>Country</th>\n",
       "      <th>Max Temp</th>\n",
       "      <th>Current Description</th>\n",
       "      <th>Lat</th>\n",
       "      <th>Lng</th>\n",
       "      <th>Hotel Name</th>\n",
       "    </tr>\n",
       "  </thead>\n",
       "  <tbody>\n",
       "    <tr>\n",
       "      <th>321</th>\n",
       "      <td>510</td>\n",
       "      <td>Bonavista</td>\n",
       "      <td>CA</td>\n",
       "      <td>66.0</td>\n",
       "      <td>broken clouds</td>\n",
       "      <td>48.65</td>\n",
       "      <td>-53.11</td>\n",
       "      <td>Abbott's Bed &amp; Breakfast</td>\n",
       "    </tr>\n",
       "  </tbody>\n",
       "</table>\n",
       "</div>"
      ],
      "text/plain": [
       "     City_ID       City Country  Max Temp Current Description    Lat    Lng  \\\n",
       "321      510  Bonavista      CA      66.0       broken clouds  48.65 -53.11   \n",
       "\n",
       "                   Hotel Name  \n",
       "321  Abbott's Bed & Breakfast  "
      ]
     },
     "execution_count": 60,
     "metadata": {},
     "output_type": "execute_result"
    }
   ],
   "source": [
    "bonavista_ca_df"
   ]
  },
  {
   "cell_type": "code",
   "execution_count": 61,
   "metadata": {},
   "outputs": [
    {
     "data": {
      "text/html": [
       "<div>\n",
       "<style scoped>\n",
       "    .dataframe tbody tr th:only-of-type {\n",
       "        vertical-align: middle;\n",
       "    }\n",
       "\n",
       "    .dataframe tbody tr th {\n",
       "        vertical-align: top;\n",
       "    }\n",
       "\n",
       "    .dataframe thead th {\n",
       "        text-align: right;\n",
       "    }\n",
       "</style>\n",
       "<table border=\"1\" class=\"dataframe\">\n",
       "  <thead>\n",
       "    <tr style=\"text-align: right;\">\n",
       "      <th></th>\n",
       "      <th>City_ID</th>\n",
       "      <th>City</th>\n",
       "      <th>Country</th>\n",
       "      <th>Max Temp</th>\n",
       "      <th>Current Description</th>\n",
       "      <th>Lat</th>\n",
       "      <th>Lng</th>\n",
       "      <th>Hotel Name</th>\n",
       "    </tr>\n",
       "  </thead>\n",
       "  <tbody>\n",
       "    <tr>\n",
       "      <th>90</th>\n",
       "      <td>169</td>\n",
       "      <td>Vernon</td>\n",
       "      <td>CA</td>\n",
       "      <td>68.0</td>\n",
       "      <td>scattered clouds</td>\n",
       "      <td>50.26</td>\n",
       "      <td>-119.27</td>\n",
       "      <td>Prestige Vernon Lodge and Conference Centre</td>\n",
       "    </tr>\n",
       "  </tbody>\n",
       "</table>\n",
       "</div>"
      ],
      "text/plain": [
       "    City_ID    City Country  Max Temp Current Description    Lat     Lng  \\\n",
       "90      169  Vernon      CA      68.0    scattered clouds  50.26 -119.27   \n",
       "\n",
       "                                     Hotel Name  \n",
       "90  Prestige Vernon Lodge and Conference Centre  "
      ]
     },
     "execution_count": 61,
     "metadata": {},
     "output_type": "execute_result"
    }
   ],
   "source": [
    "vernon_ca_df"
   ]
  },
  {
   "cell_type": "code",
   "execution_count": 62,
   "metadata": {},
   "outputs": [
    {
     "data": {
      "text/html": [
       "<div>\n",
       "<style scoped>\n",
       "    .dataframe tbody tr th:only-of-type {\n",
       "        vertical-align: middle;\n",
       "    }\n",
       "\n",
       "    .dataframe tbody tr th {\n",
       "        vertical-align: top;\n",
       "    }\n",
       "\n",
       "    .dataframe thead th {\n",
       "        text-align: right;\n",
       "    }\n",
       "</style>\n",
       "<table border=\"1\" class=\"dataframe\">\n",
       "  <thead>\n",
       "    <tr style=\"text-align: right;\">\n",
       "      <th></th>\n",
       "      <th>City_ID</th>\n",
       "      <th>City</th>\n",
       "      <th>Country</th>\n",
       "      <th>Max Temp</th>\n",
       "      <th>Current Description</th>\n",
       "      <th>Lat</th>\n",
       "      <th>Lng</th>\n",
       "      <th>Hotel Name</th>\n",
       "    </tr>\n",
       "  </thead>\n",
       "  <tbody>\n",
       "    <tr>\n",
       "      <th>135</th>\n",
       "      <td>248</td>\n",
       "      <td>Lake Cowichan</td>\n",
       "      <td>CA</td>\n",
       "      <td>64.4</td>\n",
       "      <td>broken clouds</td>\n",
       "      <td>48.83</td>\n",
       "      <td>-124.05</td>\n",
       "      <td>Boutique Waterfront Lodge</td>\n",
       "    </tr>\n",
       "  </tbody>\n",
       "</table>\n",
       "</div>"
      ],
      "text/plain": [
       "     City_ID           City Country  Max Temp Current Description    Lat  \\\n",
       "135      248  Lake Cowichan      CA      64.4       broken clouds  48.83   \n",
       "\n",
       "        Lng                 Hotel Name  \n",
       "135 -124.05  Boutique Waterfront Lodge  "
      ]
     },
     "execution_count": 62,
     "metadata": {},
     "output_type": "execute_result"
    }
   ],
   "source": [
    "lakecowi_ca_df"
   ]
  },
  {
   "cell_type": "code",
   "execution_count": 63,
   "metadata": {},
   "outputs": [
    {
     "data": {
      "text/plain": [
       "array([[  54.77,   48.65,   50.26,   48.83],\n",
       "       [-101.86,  -53.11, -119.27, -124.05]])"
      ]
     },
     "execution_count": 63,
     "metadata": {},
     "output_type": "execute_result"
    }
   ],
   "source": [
    "# Creating latitude and longitude pairs for each city DataFrame as tuples\n",
    "\n",
    "lat_lng_pairs_df=pd.DataFrame({\"Flin Flon\": [54.77, -101.86], \"Bonavista\": [48.65, -53.11], \"Vernon\": [50.26, -119.27], \"Lake Cowichan\": [48.83, -124.05]})\n",
    "lat_lng_pairs_df.to_numpy()"
   ]
  },
  {
   "cell_type": "code",
   "execution_count": 64,
   "metadata": {},
   "outputs": [
    {
     "data": {
      "application/vnd.jupyter.widget-view+json": {
       "model_id": "54db34224bc047528727b13a00b8a6af",
       "version_major": 2,
       "version_minor": 0
      },
      "text/plain": [
       "Figure(layout=FigureLayout(height='420px'))"
      ]
     },
     "metadata": {},
     "output_type": "display_data"
    }
   ],
   "source": [
    "# Creating direction layer for Bethel to Saint Augustine\n",
    "fig = gmaps.figure()\n",
    "fflon2bonavista = gmaps.directions_layer(lat_lng_pairs_df[\"Flin Flon\"], lat_lng_pairs_df[\"Bonavista\"]\n",
    "                                               ,travel_mode=\"DRIVING\")\n",
    "bonavista2vernon = gmaps.directions_layer(lat_lng_pairs_df[\"Bonavista\"], lat_lng_pairs_df[\"Vernon\"]\n",
    "                                               ,travel_mode=\"DRIVING\")\n",
    "vernon2lakecowi = gmaps.directions_layer(lat_lng_pairs_df[\"Vernon\"], lat_lng_pairs_df[\"Lake Cowichan\"]\n",
    "                                               ,travel_mode=\"DRIVING\")\n",
    "\n",
    "fig.add_layer(fflon2bonavista)\n",
    "fig.add_layer(bonavista2vernon)\n",
    "fig.add_layer(vernon2lakecowi)\n",
    "\n",
    "fig"
   ]
  },
  {
   "cell_type": "code",
   "execution_count": 78,
   "metadata": {},
   "outputs": [
    {
     "data": {
      "text/html": [
       "<div>\n",
       "<style scoped>\n",
       "    .dataframe tbody tr th:only-of-type {\n",
       "        vertical-align: middle;\n",
       "    }\n",
       "\n",
       "    .dataframe tbody tr th {\n",
       "        vertical-align: top;\n",
       "    }\n",
       "\n",
       "    .dataframe thead th {\n",
       "        text-align: right;\n",
       "    }\n",
       "</style>\n",
       "<table border=\"1\" class=\"dataframe\">\n",
       "  <thead>\n",
       "    <tr style=\"text-align: right;\">\n",
       "      <th></th>\n",
       "      <th>City_ID</th>\n",
       "      <th>City</th>\n",
       "      <th>Country</th>\n",
       "      <th>Max Temp</th>\n",
       "      <th>Current Description</th>\n",
       "      <th>Lat</th>\n",
       "      <th>Lng</th>\n",
       "      <th>Hotel Name</th>\n",
       "    </tr>\n",
       "  </thead>\n",
       "  <tbody>\n",
       "    <tr>\n",
       "      <th>0</th>\n",
       "      <td>366</td>\n",
       "      <td>Flin Flon</td>\n",
       "      <td>CA</td>\n",
       "      <td>71.6</td>\n",
       "      <td>broken clouds</td>\n",
       "      <td>54.77</td>\n",
       "      <td>-101.86</td>\n",
       "      <td>Victoria Inn Flin Flon</td>\n",
       "    </tr>\n",
       "    <tr>\n",
       "      <th>1</th>\n",
       "      <td>510</td>\n",
       "      <td>Bonavista</td>\n",
       "      <td>CA</td>\n",
       "      <td>66.0</td>\n",
       "      <td>broken clouds</td>\n",
       "      <td>48.65</td>\n",
       "      <td>-53.11</td>\n",
       "      <td>Abbott's Bed &amp; Breakfast</td>\n",
       "    </tr>\n",
       "    <tr>\n",
       "      <th>2</th>\n",
       "      <td>169</td>\n",
       "      <td>Vernon</td>\n",
       "      <td>CA</td>\n",
       "      <td>68.0</td>\n",
       "      <td>scattered clouds</td>\n",
       "      <td>50.26</td>\n",
       "      <td>-119.27</td>\n",
       "      <td>Prestige Vernon Lodge and Conference Centre</td>\n",
       "    </tr>\n",
       "    <tr>\n",
       "      <th>3</th>\n",
       "      <td>248</td>\n",
       "      <td>Lake Cowichan</td>\n",
       "      <td>CA</td>\n",
       "      <td>64.4</td>\n",
       "      <td>broken clouds</td>\n",
       "      <td>48.83</td>\n",
       "      <td>-124.05</td>\n",
       "      <td>Boutique Waterfront Lodge</td>\n",
       "    </tr>\n",
       "  </tbody>\n",
       "</table>\n",
       "</div>"
      ],
      "text/plain": [
       "   City_ID           City Country  Max Temp Current Description    Lat  \\\n",
       "0      366      Flin Flon      CA      71.6       broken clouds  54.77   \n",
       "1      510      Bonavista      CA      66.0       broken clouds  48.65   \n",
       "2      169         Vernon      CA      68.0    scattered clouds  50.26   \n",
       "3      248  Lake Cowichan      CA      64.4       broken clouds  48.83   \n",
       "\n",
       "      Lng                                   Hotel Name  \n",
       "0 -101.86                       Victoria Inn Flin Flon  \n",
       "1  -53.11                     Abbott's Bed & Breakfast  \n",
       "2 -119.27  Prestige Vernon Lodge and Conference Centre  \n",
       "3 -124.05                    Boutique Waterfront Lodge  "
      ]
     },
     "execution_count": 78,
     "metadata": {},
     "output_type": "execute_result"
    }
   ],
   "source": [
    "# Merging 4 separate DataFrames for each city into one\n",
    "df1=pd.concat([flinflon_ca_df, bonavista_ca_df, vernon_ca_df, lakecowi_ca_df], ignore_index=True)\n",
    "df1"
   ]
  },
  {
   "cell_type": "code",
   "execution_count": 70,
   "metadata": {},
   "outputs": [],
   "source": [
    "info_box_template = \"\"\"\n",
    "<dl>\n",
    "<dt>Hotel Name</dt><dd>{Hotel Name}</dd>\n",
    "<dt>City</dt><dd>{City}</dd>\n",
    "<dt>Country</dt><dd>{Country}</dd>\n",
    "<dt>Current Weather Description</dt><dd>{Current Description}</dd>\n",
    "<dt>Max Temp</dt><dd>{Max Temp} °F</dd>\n",
    "</dl>\n",
    "\"\"\""
   ]
  },
  {
   "cell_type": "code",
   "execution_count": 71,
   "metadata": {},
   "outputs": [],
   "source": [
    "# Store the DataFrame Row\n",
    "hotel_info = [info_box_template.format(**row) for index, row in df1.iterrows()]"
   ]
  },
  {
   "cell_type": "code",
   "execution_count": 86,
   "metadata": {},
   "outputs": [
    {
     "data": {
      "application/vnd.jupyter.widget-view+json": {
       "model_id": "3b026aebf9454592b56a5b96b14849a6",
       "version_major": 2,
       "version_minor": 0
      },
      "text/plain": [
       "Figure(layout=FigureLayout(height='420px'))"
      ]
     },
     "metadata": {},
     "output_type": "display_data"
    }
   ],
   "source": [
    "# Add the vacation spots and marker for each city\n",
    "locations = df1[[\"Lat\", \"Lng\"]]\n",
    "fig = gmaps.figure(center=(30.0, 31.0), zoom_level=2.5)\n",
    "marker_layer = gmaps.marker_layer(locations, info_box_content=hotel_info)\n",
    "fig.add_layer(marker_layer)\n",
    "\n",
    "\n",
    "# Call the figure to plot the data\n",
    "fig"
   ]
  },
  {
   "cell_type": "code",
   "execution_count": null,
   "metadata": {},
   "outputs": [],
   "source": []
  }
 ],
 "metadata": {
  "kernelspec": {
   "display_name": "PythonData",
   "language": "python",
   "name": "pythondata"
  },
  "language_info": {
   "codemirror_mode": {
    "name": "ipython",
    "version": 3
   },
   "file_extension": ".py",
   "mimetype": "text/x-python",
   "name": "python",
   "nbconvert_exporter": "python",
   "pygments_lexer": "ipython3",
   "version": "3.7.7"
  }
 },
 "nbformat": 4,
 "nbformat_minor": 4
}
